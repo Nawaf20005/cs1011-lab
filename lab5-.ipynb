{
 "cells": [
  {
   "cell_type": "markdown",
   "id": "a3857acc-a3e0-4dfe-b881-938edc380b90",
   "metadata": {},
   "source": [
    " # Lab 5:\n",
    " **Name:** *type your name*\n",
    " \n",
    " **ID:** *type your university number*"
   ]
  },
  {
   "cell_type": "markdown",
   "id": "caa7d925-56ed-4c6e-b2f5-5dfbb0ed9dcb",
   "metadata": {},
   "source": [
    "### Print string in reverse (20%)"
   ]
  },
  {
   "cell_type": "markdown",
   "id": "8df513cf-fe36-4806-8c4e-dc1065d412a0",
   "metadata": {},
   "source": [
    "Write a program that takes in a line of text as input, and outputs that line of text in reverse. You are required to complete the function $reverse(user\\_input)$ that returns the revers of the input string."
   ]
  },
  {
   "cell_type": "markdown",
   "id": "3bdc52a0-9c02-45b7-91d1-c22d0f4940bc",
   "metadata": {},
   "source": [
    "#### Ex. If the input is:"
   ]
  },
  {
   "cell_type": "markdown",
   "id": "bdfdae17-e20c-4f0c-85c3-b709661ce563",
   "metadata": {},
   "source": [
    "Hello there"
   ]
  },
  {
   "cell_type": "markdown",
   "id": "d1da6ead-4890-4678-9c74-d89188627464",
   "metadata": {},
   "source": [
    "#### then the output is:"
   ]
  },
  {
   "cell_type": "markdown",
   "id": "079ebf21-8013-4b0d-9e84-339706e39575",
   "metadata": {},
   "source": [
    "ereht olleH"
   ]
  },
  {
   "cell_type": "code",
   "execution_count": null,
   "id": "d70df1fd-f96a-4550-99a2-e99180f7ae9d",
   "metadata": {},
   "outputs": [],
   "source": [
    "def reverse(user_input):\n",
    "    # Type your code here.\n",
    "    pass # remove this line after writing your code\n",
    "\n",
    "# Read first line of input\n",
    "user_input = input()\n",
    "\n",
    "v = reverse(user_input)\n",
    "print(v)"
   ]
  },
  {
   "cell_type": "markdown",
   "id": "1e9ab80f-1395-4aee-b039-03d4873c74cd",
   "metadata": {},
   "source": [
    "#### Optional Step:\n",
    "\n",
    "- Download the python file [l5grader](https://github.com/mknifiai/cs1011-lab/blob/main/l5grader.py) to test your code.\n",
    "\n",
    "- Place the file in your current working directory. Then run the following code cell "
   ]
  },
  {
   "cell_type": "code",
   "execution_count": null,
   "id": "073f05b0-a81c-46f0-83b8-110d88a73633",
   "metadata": {},
   "outputs": [],
   "source": [
    "%run -i 'l5grader.py'"
   ]
  },
  {
   "cell_type": "markdown",
   "id": "1c5357ca-f01a-4d36-80d8-7b2639753050",
   "metadata": {},
   "source": [
    "## Check in"
   ]
  },
  {
   "cell_type": "markdown",
   "id": "c1da68e3-4bfb-4202-a7ab-d92c32c36757",
   "metadata": {},
   "source": [
    "#### - <font color='red'>Rename this file as follows: lab5-YOUR_UQU_ID.ipynb <font>"
   ]
  },
  {
   "cell_type": "markdown",
   "id": "60a8ef0c-96fa-498f-a3ab-6191c433d211",
   "metadata": {},
   "source": [
    "#### - <font color='red'>Upload your notebook file to Blackboard<font>"
   ]
  }
 ],
 "metadata": {
  "kernelspec": {
   "display_name": "Python 3 (ipykernel)",
   "language": "python",
   "name": "python3"
  },
  "language_info": {
   "codemirror_mode": {
    "name": "ipython",
    "version": 3
   },
   "file_extension": ".py",
   "mimetype": "text/x-python",
   "name": "python",
   "nbconvert_exporter": "python",
   "pygments_lexer": "ipython3",
   "version": "3.12.1"
  }
 },
 "nbformat": 4,
 "nbformat_minor": 5
}
