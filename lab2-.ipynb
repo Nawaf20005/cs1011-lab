{
 "cells": [
  {
   "cell_type": "markdown",
   "id": "a3857acc-a3e0-4dfe-b881-938edc380b90",
   "metadata": {},
   "source": [
    " # Lab 2:\n",
    " **Name:** *type your name*\n",
    " \n",
    " **ID:** *type your university number*"
   ]
  },
  {
   "cell_type": "markdown",
   "id": "caa7d925-56ed-4c6e-b2f5-5dfbb0ed9dcb",
   "metadata": {},
   "source": [
    "### Part 1: Alphabetical Order (10%)"
   ]
  },
  {
   "cell_type": "markdown",
   "id": "8df513cf-fe36-4806-8c4e-dc1065d412a0",
   "metadata": {},
   "source": [
    "Write a program that takes in three lowercase characters and outputs the characters in alphabetical order. The program must read and output the characters as a list."
   ]
  },
  {
   "cell_type": "markdown",
   "id": "3bdc52a0-9c02-45b7-91d1-c22d0f4940bc",
   "metadata": {},
   "source": [
    "#### Hint: Ordering three characters takes six permutations."
   ]
  },
  {
   "cell_type": "markdown",
   "id": "bdfdae17-e20c-4f0c-85c3-b709661ce563",
   "metadata": {},
   "source": [
    "Ex: If the input is:\n",
    "\n",
    "first character: b\n",
    "\n",
    "second character: c\n",
    "\n",
    "third character: a\n",
    "\n",
    "the output is:\n",
    "\n",
    "('a', 'b', 'c')"
   ]
  },
  {
   "cell_type": "code",
   "execution_count": null,
   "id": "d70df1fd-f96a-4550-99a2-e99180f7ae9d",
   "metadata": {},
   "outputs": [],
   "source": [
    "def alphabetical_order(a,b,c):\n",
    "    #ToDo\n",
    "    pass\n",
    "\n",
    "\n",
    "    \n",
    "# Read three characters\n",
    "first = input('first characters:').strip()\n",
    "second = input('second characters:').strip()\n",
    "third = input('third characters:').strip()\n",
    "\n",
    "\n",
    "print(f'characters: {first,second,third}')\n",
    "print(f'Thr characters in alphabetical order: {alphabetical_order(first,second,third)}')"
   ]
  },
  {
   "cell_type": "markdown",
   "id": "e1730854-a4f0-43a6-b9eb-45c879ea2bd5",
   "metadata": {},
   "source": [
    "### Part 2: Count odd numbers (10%)"
   ]
  },
  {
   "cell_type": "markdown",
   "id": "9b103c2e-9507-4004-9751-ec147f138fab",
   "metadata": {},
   "source": [
    "Write a program that takes in four positive integers and outputs the number of odd numbers."
   ]
  },
  {
   "cell_type": "markdown",
   "id": "41a97039-7add-4948-991d-740d05f388b7",
   "metadata": {},
   "source": [
    "Ex: If the input is: \n",
    "\n",
    "first num: 1\n",
    "\n",
    "second num: 2\n",
    "\n",
    "third num: 3\n",
    "\n",
    "fourth num: 4\n",
    "\n",
    "\n",
    "the output is: 2"
   ]
  },
  {
   "cell_type": "markdown",
   "id": "f7a73180-29d6-4e53-ae16-803a7ad3ea17",
   "metadata": {},
   "source": [
    "Ex: If the input is: \n",
    "\n",
    "first num: 19\n",
    "\n",
    "second num: 19\n",
    "\n",
    "third num: 19\n",
    "\n",
    "fourth num: 10\n",
    "\n",
    "\n",
    "the output is: 4"
   ]
  },
  {
   "cell_type": "code",
   "execution_count": null,
   "id": "42933105-6151-4d82-bfd9-4bbee150a2f0",
   "metadata": {},
   "outputs": [],
   "source": [
    "def count_odd(first,second,third,fourth):\n",
    "    #ToDo\n",
    "    pass\n",
    "    \n",
    "\n",
    "first = int(input('first number:'))\n",
    "second = int(input('second number:'))\n",
    "third = int(input('third number:'))\n",
    "fourth = int(input('fourth number:'))\n",
    "\n",
    "print(f'\\nNumber of odd is {count_odd(first,second,third,fourth)}')"
   ]
  },
  {
   "cell_type": "markdown",
   "id": "1e9ab80f-1395-4aee-b039-03d4873c74cd",
   "metadata": {},
   "source": [
    "#### Optional Step:\n",
    "\n",
    "- Download the python file [l2grader](https://github.com/mknifiai/cs1011-lab/blob/main/l2grader.py) to test your code.\n",
    "\n",
    "- Place the file in your current working directory. Then run the following code cell "
   ]
  },
  {
   "cell_type": "code",
   "execution_count": null,
   "id": "e8bb29ff-a8af-41fd-b254-92e3972537f3",
   "metadata": {},
   "outputs": [],
   "source": [
    "%run -i 'l2grader.py'"
   ]
  },
  {
   "cell_type": "markdown",
   "id": "1c5357ca-f01a-4d36-80d8-7b2639753050",
   "metadata": {},
   "source": [
    "## Check in"
   ]
  },
  {
   "cell_type": "markdown",
   "id": "c1da68e3-4bfb-4202-a7ab-d92c32c36757",
   "metadata": {},
   "source": [
    "#### - <font color='red'>Rename this file as follows: lab3-YOUR_UQU_ID.ipynb <font>"
   ]
  },
  {
   "cell_type": "markdown",
   "id": "60a8ef0c-96fa-498f-a3ab-6191c433d211",
   "metadata": {},
   "source": [
    "#### - <font color='red'>Upload your notebook file to Blackboard<font>"
   ]
  }
 ],
 "metadata": {
  "kernelspec": {
   "display_name": "Python 3 (ipykernel)",
   "language": "python",
   "name": "python3"
  },
  "language_info": {
   "codemirror_mode": {
    "name": "ipython",
    "version": 3
   },
   "file_extension": ".py",
   "mimetype": "text/x-python",
   "name": "python",
   "nbconvert_exporter": "python",
   "pygments_lexer": "ipython3",
   "version": "3.12.1"
  }
 },
 "nbformat": 4,
 "nbformat_minor": 5
}
