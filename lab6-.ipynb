{
 "cells": [
  {
   "cell_type": "markdown",
   "id": "a3857acc-a3e0-4dfe-b881-938edc380b90",
   "metadata": {},
   "source": [
    " # Lab 6:\n",
    " **Name:** *type your name*\n",
    " \n",
    " **ID:** *type your university number*"
   ]
  },
  {
   "cell_type": "markdown",
   "id": "caa7d925-56ed-4c6e-b2f5-5dfbb0ed9dcb",
   "metadata": {},
   "source": [
    "### Part 1: Check if list is sorted (10%)"
   ]
  },
  {
   "cell_type": "markdown",
   "id": "8df513cf-fe36-4806-8c4e-dc1065d412a0",
   "metadata": {},
   "source": [
    "Write the in_order() function, which has a list of integers as a parameter, and returns True if the integers are sorted (in order from low to high) or False otherwise. The program outputs \"In order\" if the list is sorted, or \"Not in order\" if the list is not sorted."
   ]
  },
  {
   "cell_type": "markdown",
   "id": "079ebf21-8013-4b0d-9e84-339706e39575",
   "metadata": {},
   "source": [
    "Ex: If the list passed to the in_order() function is [5, 6, 7, 8, 3], then the function returns False and the program outputs:"
   ]
  },
  {
   "cell_type": "raw",
   "id": "ee967a9c-f417-4dfd-a618-50adf9a4bda1",
   "metadata": {},
   "source": [
    "# Not in order"
   ]
  },
  {
   "cell_type": "markdown",
   "id": "8d7a54b9-42a2-4ee0-81ff-e3b4585588c0",
   "metadata": {},
   "source": [
    "Ex: If the list passed to the in_order() function is [5, 6, 7, 8, 10], then the function returns True and the program outputs:"
   ]
  },
  {
   "cell_type": "raw",
   "id": "c9377e0f-621d-4d4c-81be-9035a44bd4d4",
   "metadata": {},
   "source": [
    "# In order"
   ]
  },
  {
   "cell_type": "markdown",
   "id": "e18a2262-b01d-4a8f-972b-18d168b2b90c",
   "metadata": {},
   "source": [
    "<b> Note </b>: \n",
    "Use a for loop. DO NOT use sorted() or sort()."
   ]
  },
  {
   "cell_type": "code",
   "execution_count": null,
   "id": "d70df1fd-f96a-4550-99a2-e99180f7ae9d",
   "metadata": {},
   "outputs": [],
   "source": [
    "def in_order(nums):\n",
    "    # Type your code here.\n",
    "    pass\n",
    "    \n",
    "\n",
    "# Test out-of-order example\n",
    "nums1 = [5, 6, 7, 8, 3]\n",
    "if in_order(nums1):\n",
    "    print('In order')\n",
    "else:\n",
    "    print('Not in order')\n",
    "        \n",
    "# Test in-order example\n",
    "nums2 = [5, 6, 7, 8, 10]\n",
    "if in_order(nums2):\n",
    "    print('In order')\n",
    "else:\n",
    "    print('Not in order')"
   ]
  },
  {
   "cell_type": "code",
   "execution_count": null,
   "id": "269b9959-9902-4926-9c37-2374847bbf88",
   "metadata": {},
   "outputs": [],
   "source": []
  },
  {
   "cell_type": "markdown",
   "id": "dd0204b0-bd1c-42d7-a2bf-ed99a740dc38",
   "metadata": {},
   "source": [
    "### Part 2: List Operations (10%)"
   ]
  },
  {
   "cell_type": "markdown",
   "id": "1cf3c091-6fea-4abd-beca-cd751386c319",
   "metadata": {},
   "source": [
    "Given a list of numbers, you are required to complete the following functions:\n",
    "\n",
    "- (1%) A function that returns the largest number in the list\n",
    "\n",
    "- (1%) A function that returns the sum of the numbers in the list\n",
    "\n",
    "- (1%) A function that returns the list after removing the second element\n",
    "\n",
    "- (1%) A function that returns the list after appending 1000\n",
    "\n",
    "- (1%) A function that returns the average of the list\n",
    "\n",
    "- (2%) A function that returns a set that has the second and the forth elements of the list\n",
    "\n",
    "- (1%) A function that returns the list after removing the duplicated elements\n",
    "\n",
    "- (2%) A function that returns the list after the replacement of its first element with -1"
   ]
  },
  {
   "cell_type": "markdown",
   "id": "6b1b835d-1ada-4db0-86e3-efe61318e007",
   "metadata": {},
   "source": [
    "##### Hint\n",
    "- You should use some Python functions such as # sum(),max(),min(),len().\n",
    "- You can also use the appropriate methods that operate on lists like append, index, remove, update."
   ]
  },
  {
   "cell_type": "markdown",
   "id": "108a9c5e-d878-4428-a66b-fc85fbbc9f60",
   "metadata": {},
   "source": [
    "-- Remember that you can read multiple numbers separated by a space as follows:"
   ]
  },
  {
   "cell_type": "code",
   "execution_count": null,
   "id": "2a8bfafc-6d2f-4f5a-8cce-40b875cf3c37",
   "metadata": {},
   "outputs": [],
   "source": [
    "# enter numbers separated by a space\n",
    "user_input = input('Enter a list of numbers:')\n",
    "tokens = user_input.split()  \n",
    "lst = [int(a) for a in tokens]\n",
    "# enter these numbers: 1 3 4 4 5 6 7. Then press Enter"
   ]
  },
  {
   "cell_type": "code",
   "execution_count": 1,
   "id": "5faf3bc6-c0fd-4099-aa93-d43129eea8e1",
   "metadata": {},
   "outputs": [],
   "source": [
    "# Remove the keyword pass from the body of each function and write your code\n",
    "\n",
    "def max_(lst):\n",
    "    # ToDo\n",
    "    pass\n",
    "\n",
    "def sum_(lst):\n",
    "    # ToDo\n",
    "    pass\n",
    "\n",
    "def remove_(lst):\n",
    "    # ToDo\n",
    "    pass\n",
    "\n",
    "def append_(lst,x):\n",
    "    # ToDo\n",
    "    pass\n",
    "\n",
    "def average_(lst):\n",
    "    # ToDo\n",
    "    pass\n",
    "\n",
    "def set_(lst):\n",
    "    # ToDo\n",
    "    pass\n",
    "\n",
    "def uniq_(lst):\n",
    "    # ToDo\n",
    "    pass\n",
    "\n",
    "def replace_(lst):\n",
    "    # ToDo\n",
    "    pass"
   ]
  },
  {
   "cell_type": "code",
   "execution_count": null,
   "id": "6a9de0f5-baab-4c7b-b035-ae820e462429",
   "metadata": {},
   "outputs": [],
   "source": [
    "print(f'The original list {lst}')\n",
    "\n",
    "print(f'The maximum number in the list: {max_(lst)}')\n",
    "\n",
    "print(f'The sum of numbers in the list :{sum_(lst)}')\n",
    "\n",
    "print(f'The list after removing the second element {remove_(lst)}')\n",
    "\n",
    "print(f'The list after appending the number 1000 {append_(lst,1000)}')\n",
    "\n",
    "print(f'The average of the list: {average_(lst)}')\n",
    "\n",
    "print(f'The set with the second and the forth elements of the list: {set_(lst)}')\n",
    "\n",
    "print(f'The unique numbers in the list: {uniq_(lst)}')\n",
    "\n",
    "print(f'The list after the replacement of its first number: {replace_(lst)}')"
   ]
  },
  {
   "cell_type": "code",
   "execution_count": null,
   "id": "e8897fbc-4d84-45bc-ad6b-2ba4c8937e3f",
   "metadata": {},
   "outputs": [],
   "source": []
  },
  {
   "cell_type": "markdown",
   "id": "1e9ab80f-1395-4aee-b039-03d4873c74cd",
   "metadata": {},
   "source": [
    "#### Optional Step:\n",
    "\n",
    "- Download the python file [l6grader](https://github.com/mknifiai/cs1011-lab/blob/main/l6grader.py) to test your code.\n",
    "\n",
    "- Place the file in your current working directory. Then run the following code cell "
   ]
  },
  {
   "cell_type": "code",
   "execution_count": null,
   "id": "073f05b0-a81c-46f0-83b8-110d88a73633",
   "metadata": {},
   "outputs": [],
   "source": [
    "%run -i 'l6grader.py'"
   ]
  },
  {
   "cell_type": "markdown",
   "id": "1c5357ca-f01a-4d36-80d8-7b2639753050",
   "metadata": {},
   "source": [
    "## Check in"
   ]
  },
  {
   "cell_type": "markdown",
   "id": "c1da68e3-4bfb-4202-a7ab-d92c32c36757",
   "metadata": {},
   "source": [
    "#### - <font color='red'>Rename this file as follows: lab6-YOUR_UQU_ID.ipynb <font>"
   ]
  },
  {
   "cell_type": "markdown",
   "id": "60a8ef0c-96fa-498f-a3ab-6191c433d211",
   "metadata": {},
   "source": [
    "#### - <font color='red'>Upload your notebook file to Blackboard<font>"
   ]
  }
 ],
 "metadata": {
  "kernelspec": {
   "display_name": "Python 3 (ipykernel)",
   "language": "python",
   "name": "python3"
  },
  "language_info": {
   "codemirror_mode": {
    "name": "ipython",
    "version": 3
   },
   "file_extension": ".py",
   "mimetype": "text/x-python",
   "name": "python",
   "nbconvert_exporter": "python",
   "pygments_lexer": "ipython3",
   "version": "3.12.1"
  }
 },
 "nbformat": 4,
 "nbformat_minor": 5
}
