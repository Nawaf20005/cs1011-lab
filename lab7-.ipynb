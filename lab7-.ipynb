{
 "cells": [
  {
   "cell_type": "markdown",
   "id": "a3857acc-a3e0-4dfe-b881-938edc380b90",
   "metadata": {},
   "source": [
    " # Lab 7:\n",
    " **Name:** *type your name*\n",
    " \n",
    " **ID:** *type your university number*"
   ]
  },
  {
   "cell_type": "markdown",
   "id": "caa7d925-56ed-4c6e-b2f5-5dfbb0ed9dcb",
   "metadata": {},
   "source": [
    "### Car wash (20%)"
   ]
  },
  {
   "cell_type": "markdown",
   "id": "8df513cf-fe36-4806-8c4e-dc1065d412a0",
   "metadata": {},
   "source": [
    "Write a program to calculate the total price for car wash services. A base car wash is $10. A dictionary with each additional service and the corresponding cost has been provided. \n",
    "\n",
    "Two additional services can be selected. A '-' signifies an additional service was not selected. Output all selected services, according to the input order, along with the corresponding costs and then the total price for all car wash services."
   ]
  },
  {
   "cell_type": "raw",
   "id": "6d388e0a-cc8d-4edc-9612-c0081e719b0c",
   "metadata": {},
   "source": [
    "# Ex: If the input is:"
   ]
  },
  {
   "cell_type": "markdown",
   "id": "8dc84214-4c60-453d-8ab8-2b7769e7ff55",
   "metadata": {},
   "source": [
    "Tire shine <br>\n",
    "Wax"
   ]
  },
  {
   "cell_type": "raw",
   "id": "ee967a9c-f417-4dfd-a618-50adf9a4bda1",
   "metadata": {},
   "source": [
    "# the output is:"
   ]
  },
  {
   "cell_type": "markdown",
   "id": "8d7a54b9-42a2-4ee0-81ff-e3b4585588c0",
   "metadata": {},
   "source": [
    "Car Wash <br>\n",
    "Base car wash - \\\\$10 <br>\n",
    "Tire shine - \\\\$2 <br>\n",
    "Wax - \\\\$3 <br>\n",
    "----- <br>\n",
    "Total price: \\\\$15"
   ]
  },
  {
   "cell_type": "raw",
   "id": "0d138e96-1d62-4e48-89ff-c7575160d2ff",
   "metadata": {},
   "source": [
    "# Ex: If the input is:"
   ]
  },
  {
   "cell_type": "markdown",
   "id": "3481ae74-da18-4872-8dff-0e5d572cb20b",
   "metadata": {},
   "source": [
    "Rain repellent<br>\n",
    "$-$"
   ]
  },
  {
   "cell_type": "raw",
   "id": "825f9cbf-5d3b-4ff1-b0ff-a0b8e18f704a",
   "metadata": {},
   "source": [
    "# the output is:"
   ]
  },
  {
   "cell_type": "markdown",
   "id": "83c66bf9-f487-4538-89a0-ea5e777599a3",
   "metadata": {},
   "source": [
    "Car Wash <br>\n",
    "Base car wash - \\\\$10 <br>\n",
    "Rain repellent - \\\\$2 <br>\n",
    "----- <br>\n",
    "Total price: \\\\$12 <br>"
   ]
  },
  {
   "cell_type": "code",
   "execution_count": null,
   "id": "d70df1fd-f96a-4550-99a2-e99180f7ae9d",
   "metadata": {},
   "outputs": [],
   "source": [
    "services = { 'Air freshener' : 1 , 'Rain repellent': 2, 'Tire shine' : 2, 'Wax' : 3, 'Vacuum' : 5 }\n",
    "base_wash = 10\n",
    "total = 0\n",
    "\n",
    "service_choice1 = input()\n",
    "service_choice2 = input()\n",
    "\n",
    "''' Type your code here '''\n"
   ]
  },
  {
   "cell_type": "markdown",
   "id": "1c5357ca-f01a-4d36-80d8-7b2639753050",
   "metadata": {},
   "source": [
    "## Check in"
   ]
  },
  {
   "cell_type": "markdown",
   "id": "c1da68e3-4bfb-4202-a7ab-d92c32c36757",
   "metadata": {},
   "source": [
    "#### - <font color='red'>Rename this file as follows: lab7-YOUR_UQU_ID.ipynb <font>"
   ]
  },
  {
   "cell_type": "markdown",
   "id": "60a8ef0c-96fa-498f-a3ab-6191c433d211",
   "metadata": {},
   "source": [
    "#### - <font color='red'>Upload your notebook file to Blackboard<font>"
   ]
  }
 ],
 "metadata": {
  "kernelspec": {
   "display_name": "Python 3 (ipykernel)",
   "language": "python",
   "name": "python3"
  },
  "language_info": {
   "codemirror_mode": {
    "name": "ipython",
    "version": 3
   },
   "file_extension": ".py",
   "mimetype": "text/x-python",
   "name": "python",
   "nbconvert_exporter": "python",
   "pygments_lexer": "ipython3",
   "version": "3.12.1"
  }
 },
 "nbformat": 4,
 "nbformat_minor": 5
}
